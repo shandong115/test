{
 "cells": [
  {
   "cell_type": "code",
   "execution_count": 1,
   "metadata": {},
   "outputs": [],
   "source": [
    "from gensim.models import word2vec"
   ]
  },
  {
   "cell_type": "code",
   "execution_count": 2,
   "metadata": {},
   "outputs": [],
   "source": [
    "import logging"
   ]
  },
  {
   "cell_type": "code",
   "execution_count": 3,
   "metadata": {},
   "outputs": [],
   "source": [
    "logging.basicConfig(format='%(asctime)s : %(levelname)s : %(message)s', level=logging.INFO)"
   ]
  },
  {
   "cell_type": "code",
   "execution_count": 5,
   "metadata": {},
   "outputs": [],
   "source": [
    "raw_sentences = [\"Dayou I love you\",\"the quick brown fox jumps over the lazy dogs\"]"
   ]
  },
  {
   "cell_type": "code",
   "execution_count": 7,
   "metadata": {},
   "outputs": [
    {
     "name": "stdout",
     "output_type": "stream",
     "text": [
      "[['Dayou', 'I', 'love', 'you'], ['the', 'quick', 'brown', 'fox', 'jumps', 'over', 'the', 'lazy', 'dogs']]\n"
     ]
    }
   ],
   "source": [
    "sentences = [s.split() for s in raw_sentences]\n",
    "print(sentences)"
   ]
  },
  {
   "cell_type": "code",
   "execution_count": 8,
   "metadata": {},
   "outputs": [
    {
     "name": "stderr",
     "output_type": "stream",
     "text": [
      "2018-04-26 20:41:18,556 : INFO : collecting all words and their counts\n",
      "2018-04-26 20:41:18,557 : INFO : PROGRESS: at sentence #0, processed 0 words, keeping 0 word types\n",
      "2018-04-26 20:41:18,559 : INFO : collected 12 word types from a corpus of 13 raw words and 2 sentences\n",
      "2018-04-26 20:41:18,560 : INFO : Loading a fresh vocabulary\n",
      "2018-04-26 20:41:18,561 : INFO : min_count=1 retains 12 unique words (100% of original 12, drops 0)\n",
      "2018-04-26 20:41:18,561 : INFO : min_count=1 leaves 13 word corpus (100% of original 13, drops 0)\n",
      "2018-04-26 20:41:18,562 : INFO : deleting the raw counts dictionary of 12 items\n",
      "2018-04-26 20:41:18,565 : INFO : sample=0.001 downsamples 12 most-common words\n",
      "2018-04-26 20:41:18,566 : INFO : downsampling leaves estimated 1 word corpus (12.1% of prior 13)\n",
      "2018-04-26 20:41:18,567 : INFO : estimated required memory for 12 words and 100 dimensions: 15600 bytes\n",
      "2018-04-26 20:41:18,567 : INFO : resetting layer weights\n",
      "2018-04-26 20:41:18,569 : INFO : training model with 3 workers on 12 vocabulary and 100 features, using sg=0 hs=0 sample=0.001 negative=5 window=5\n",
      "2018-04-26 20:41:18,573 : INFO : worker thread finished; awaiting finish of 2 more threads\n",
      "2018-04-26 20:41:18,574 : INFO : worker thread finished; awaiting finish of 1 more threads\n",
      "2018-04-26 20:41:18,576 : INFO : worker thread finished; awaiting finish of 0 more threads\n",
      "2018-04-26 20:41:18,576 : INFO : EPOCH - 1 : training on 13 raw words (2 effective words) took 0.0s, 577 effective words/s\n",
      "2018-04-26 20:41:18,580 : INFO : worker thread finished; awaiting finish of 2 more threads\n",
      "2018-04-26 20:41:18,581 : INFO : worker thread finished; awaiting finish of 1 more threads\n",
      "2018-04-26 20:41:18,582 : INFO : worker thread finished; awaiting finish of 0 more threads\n",
      "2018-04-26 20:41:18,584 : INFO : EPOCH - 2 : training on 13 raw words (2 effective words) took 0.0s, 520 effective words/s\n",
      "2018-04-26 20:41:18,588 : INFO : worker thread finished; awaiting finish of 2 more threads\n",
      "2018-04-26 20:41:18,589 : INFO : worker thread finished; awaiting finish of 1 more threads\n",
      "2018-04-26 20:41:18,591 : INFO : worker thread finished; awaiting finish of 0 more threads\n",
      "2018-04-26 20:41:18,592 : INFO : EPOCH - 3 : training on 13 raw words (1 effective words) took 0.0s, 264 effective words/s\n",
      "2018-04-26 20:41:18,594 : INFO : worker thread finished; awaiting finish of 2 more threads\n",
      "2018-04-26 20:41:18,595 : INFO : worker thread finished; awaiting finish of 1 more threads\n",
      "2018-04-26 20:41:18,597 : INFO : worker thread finished; awaiting finish of 0 more threads\n",
      "2018-04-26 20:41:18,598 : INFO : EPOCH - 4 : training on 13 raw words (1 effective words) took 0.0s, 269 effective words/s\n",
      "2018-04-26 20:41:18,600 : INFO : worker thread finished; awaiting finish of 2 more threads\n",
      "2018-04-26 20:41:18,601 : INFO : worker thread finished; awaiting finish of 1 more threads\n",
      "2018-04-26 20:41:18,602 : INFO : worker thread finished; awaiting finish of 0 more threads\n",
      "2018-04-26 20:41:18,603 : INFO : EPOCH - 5 : training on 13 raw words (1 effective words) took 0.0s, 278 effective words/s\n",
      "2018-04-26 20:41:18,604 : INFO : training on a 65 raw words (7 effective words) took 0.0s, 200 effective words/s\n",
      "2018-04-26 20:41:18,605 : WARNING : under 10 jobs per worker: consider setting a smaller `batch_words' for smoother alpha decay\n"
     ]
    }
   ],
   "source": [
    "model = word2vec.Word2Vec(sentences, min_count=1)"
   ]
  },
  {
   "cell_type": "code",
   "execution_count": 10,
   "metadata": {},
   "outputs": [
    {
     "name": "stderr",
     "output_type": "stream",
     "text": [
      "/home/dayou/anaconda3/lib/python3.6/site-packages/ipykernel_launcher.py:1: DeprecationWarning: Call to deprecated `similarity` (Method will be removed in 4.0.0, use self.wv.similarity() instead).\n",
      "  \"\"\"Entry point for launching an IPython kernel.\n"
     ]
    },
    {
     "data": {
      "text/plain": [
       "0.06825634375306314"
      ]
     },
     "execution_count": 10,
     "metadata": {},
     "output_type": "execute_result"
    }
   ],
   "source": [
    "model.similarity(\"dogs\", \"love\")"
   ]
  },
  {
   "cell_type": "code",
   "execution_count": 13,
   "metadata": {},
   "outputs": [
    {
     "name": "stderr",
     "output_type": "stream",
     "text": [
      "/home/dayou/anaconda3/lib/python3.6/site-packages/ipykernel_launcher.py:1: DeprecationWarning: Call to deprecated `similarity` (Method will be removed in 4.0.0, use self.wv.similarity() instead).\n",
      "  \"\"\"Entry point for launching an IPython kernel.\n"
     ]
    },
    {
     "data": {
      "text/plain": [
       "-0.1240868527586111"
      ]
     },
     "execution_count": 13,
     "metadata": {},
     "output_type": "execute_result"
    }
   ],
   "source": [
    "model.similarity('jumps','over')"
   ]
  },
  {
   "cell_type": "code",
   "execution_count": null,
   "metadata": {},
   "outputs": [],
   "source": []
  }
 ],
 "metadata": {
  "kernelspec": {
   "display_name": "Python 3",
   "language": "python",
   "name": "python3"
  },
  "language_info": {
   "codemirror_mode": {
    "name": "ipython",
    "version": 3
   },
   "file_extension": ".py",
   "mimetype": "text/x-python",
   "name": "python",
   "nbconvert_exporter": "python",
   "pygments_lexer": "ipython3",
   "version": "3.6.4"
  }
 },
 "nbformat": 4,
 "nbformat_minor": 2
}
