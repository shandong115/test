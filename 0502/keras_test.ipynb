{
 "cells": [
  {
   "cell_type": "code",
   "execution_count": 2,
   "metadata": {},
   "outputs": [],
   "source": [
    "import keras"
   ]
  },
  {
   "cell_type": "code",
   "execution_count": 44,
   "metadata": {},
   "outputs": [],
   "source": [
    "from keras.models import Sequential\n",
    "from keras.layers.core import Dense\n",
    "from keras.optimizers import SGD,Adam,RMSprop"
   ]
  },
  {
   "cell_type": "code",
   "execution_count": 15,
   "metadata": {},
   "outputs": [],
   "source": [
    "import numpy as np\n",
    "from numpy.random import random"
   ]
  },
  {
   "cell_type": "code",
   "execution_count": 11,
   "metadata": {},
   "outputs": [
    {
     "name": "stdout",
     "output_type": "stream",
     "text": [
      "2.1.6\n"
     ]
    }
   ],
   "source": [
    "print(keras.__version__)"
   ]
  },
  {
   "cell_type": "code",
   "execution_count": 12,
   "metadata": {},
   "outputs": [],
   "source": [
    "model = Sequential()"
   ]
  },
  {
   "cell_type": "code",
   "execution_count": 13,
   "metadata": {},
   "outputs": [],
   "source": [
    "model.add(Dense(1, input_shape=(2,)))"
   ]
  },
  {
   "cell_type": "code",
   "execution_count": 51,
   "metadata": {},
   "outputs": [],
   "source": [
    "model.compile(optimizer=Adam(lr=0.01), loss='mse')"
   ]
  },
  {
   "cell_type": "code",
   "execution_count": 78,
   "metadata": {},
   "outputs": [
    {
     "data": {
      "text/plain": [
       "(array([[0.40846436, 0.376415  ],\n",
       "        [0.12113353, 0.66530565],\n",
       "        [0.20460729, 0.64719812],\n",
       "        [0.90161676, 0.56960876],\n",
       "        [0.92563018, 0.0851898 ]]), array([[0.5368978 , 0.13715436],\n",
       "        [0.0630466 , 0.43500133],\n",
       "        [0.1183156 , 0.01716471],\n",
       "        [0.64493956, 0.80337877],\n",
       "        [0.49693414, 0.43808538]]))"
      ]
     },
     "execution_count": 78,
     "metadata": {},
     "output_type": "execute_result"
    }
   ],
   "source": [
    "x1 = random((3000,2))\n",
    "x2 = random((3000,2))\n",
    "x1[:5],x2[:5]"
   ]
  },
  {
   "cell_type": "code",
   "execution_count": 79,
   "metadata": {},
   "outputs": [
    {
     "data": {
      "text/plain": [
       "(array([2.94617371, 3.23818402, 3.35080894, 4.51205981, 3.10682977]),\n",
       " array([2.48525868, 2.4310972 , 1.28812532, 4.70001544, 3.30812441]))"
      ]
     },
     "execution_count": 79,
     "metadata": {},
     "output_type": "execute_result"
    }
   ],
   "source": [
    "y1 = np.dot(x1, [2, 3]) + 1\n",
    "y2 = np.dot(x2, [2, 3]) + 1\n",
    "y1[:5],y2[:5]"
   ]
  },
  {
   "cell_type": "code",
   "execution_count": 54,
   "metadata": {},
   "outputs": [
    {
     "name": "stdout",
     "output_type": "stream",
     "text": [
      "Epoch 1/100\n",
      "3000/3000 [==============================] - 0s 77us/step - loss: 7.9515e-06\n",
      "Epoch 2/100\n",
      "3000/3000 [==============================] - 0s 36us/step - loss: 4.7783e-10\n",
      "Epoch 3/100\n",
      "3000/3000 [==============================] - 0s 37us/step - loss: 9.1722e-14\n",
      "Epoch 4/100\n",
      "3000/3000 [==============================] - 0s 36us/step - loss: 2.5196e-14\n",
      "Epoch 5/100\n",
      "3000/3000 [==============================] - 0s 35us/step - loss: 4.2325e-14\n",
      "Epoch 6/100\n",
      "3000/3000 [==============================] - 0s 35us/step - loss: 1.5485e-13\n",
      "Epoch 7/100\n",
      "3000/3000 [==============================] - 0s 35us/step - loss: 1.4372e-13\n",
      "Epoch 8/100\n",
      "3000/3000 [==============================] - 0s 34us/step - loss: 2.3624e-13\n",
      "Epoch 9/100\n",
      "3000/3000 [==============================] - 0s 35us/step - loss: 2.7660e-13\n",
      "Epoch 10/100\n",
      "3000/3000 [==============================] - 0s 35us/step - loss: 2.1132e-13\n",
      "Epoch 11/100\n",
      "3000/3000 [==============================] - 0s 35us/step - loss: 4.0097e-12\n",
      "Epoch 12/100\n",
      "3000/3000 [==============================] - 0s 35us/step - loss: 8.9825e-12\n",
      "Epoch 13/100\n",
      "3000/3000 [==============================] - 0s 35us/step - loss: 3.9315e-11\n",
      "Epoch 14/100\n",
      "3000/3000 [==============================] - 0s 37us/step - loss: 2.7105e-07\n",
      "Epoch 15/100\n",
      "3000/3000 [==============================] - 0s 35us/step - loss: 5.7792e-07\n",
      "Epoch 16/100\n",
      "3000/3000 [==============================] - 0s 36us/step - loss: 7.3834e-08\n",
      "Epoch 17/100\n",
      "3000/3000 [==============================] - 0s 35us/step - loss: 4.9510e-06\n",
      "Epoch 18/100\n",
      "3000/3000 [==============================] - 0s 34us/step - loss: 1.0843e-07\n",
      "Epoch 19/100\n",
      "3000/3000 [==============================] - 0s 37us/step - loss: 1.8251e-11\n",
      "Epoch 20/100\n",
      "3000/3000 [==============================] - 0s 34us/step - loss: 4.3386e-13\n",
      "Epoch 21/100\n",
      "3000/3000 [==============================] - 0s 35us/step - loss: 9.3886e-14\n",
      "Epoch 22/100\n",
      "3000/3000 [==============================] - 0s 34us/step - loss: 2.0045e-13\n",
      "Epoch 23/100\n",
      "3000/3000 [==============================] - 0s 34us/step - loss: 3.9211e-13\n",
      "Epoch 24/100\n",
      "3000/3000 [==============================] - 0s 35us/step - loss: 3.9397e-13\n",
      "Epoch 25/100\n",
      "3000/3000 [==============================] - 0s 36us/step - loss: 9.8899e-13\n",
      "Epoch 26/100\n",
      "3000/3000 [==============================] - 0s 36us/step - loss: 2.8912e-12\n",
      "Epoch 27/100\n",
      "3000/3000 [==============================] - 0s 34us/step - loss: 5.9150e-10\n",
      "Epoch 28/100\n",
      "3000/3000 [==============================] - 0s 36us/step - loss: 2.4104e-06\n",
      "Epoch 29/100\n",
      "3000/3000 [==============================] - 0s 35us/step - loss: 9.6219e-10\n",
      "Epoch 30/100\n",
      "3000/3000 [==============================] - 0s 36us/step - loss: 2.1009e-11\n",
      "Epoch 31/100\n",
      "3000/3000 [==============================] - 0s 36us/step - loss: 4.2782e-12\n",
      "Epoch 32/100\n",
      "3000/3000 [==============================] - 0s 35us/step - loss: 5.5148e-12\n",
      "Epoch 33/100\n",
      "3000/3000 [==============================] - 0s 36us/step - loss: 9.3444e-12\n",
      "Epoch 34/100\n",
      "3000/3000 [==============================] - 0s 35us/step - loss: 4.6150e-07\n",
      "Epoch 35/100\n",
      "3000/3000 [==============================] - 0s 35us/step - loss: 7.3446e-07\n",
      "Epoch 36/100\n",
      "3000/3000 [==============================] - 0s 35us/step - loss: 2.4636e-07\n",
      "Epoch 37/100\n",
      "3000/3000 [==============================] - 0s 35us/step - loss: 4.2201e-07\n",
      "Epoch 38/100\n",
      "3000/3000 [==============================] - 0s 36us/step - loss: 5.9953e-08\n",
      "Epoch 39/100\n",
      "3000/3000 [==============================] - 0s 35us/step - loss: 3.1732e-06\n",
      "Epoch 40/100\n",
      "3000/3000 [==============================] - 0s 35us/step - loss: 8.8312e-08\n",
      "Epoch 41/100\n",
      "3000/3000 [==============================] - 0s 35us/step - loss: 1.4148e-10\n",
      "Epoch 42/100\n",
      "3000/3000 [==============================] - 0s 35us/step - loss: 1.1488e-12\n",
      "Epoch 43/100\n",
      "3000/3000 [==============================] - 0s 36us/step - loss: 6.2244e-13\n",
      "Epoch 44/100\n",
      "3000/3000 [==============================] - 0s 35us/step - loss: 9.2764e-13\n",
      "Epoch 45/100\n",
      "3000/3000 [==============================] - 0s 35us/step - loss: 3.3646e-13\n",
      "Epoch 46/100\n",
      "3000/3000 [==============================] - 0s 35us/step - loss: 5.5370e-11\n",
      "Epoch 47/100\n",
      "3000/3000 [==============================] - 0s 37us/step - loss: 2.5812e-06\n",
      "Epoch 48/100\n",
      "3000/3000 [==============================] - 0s 35us/step - loss: 1.3762e-07\n",
      "Epoch 49/100\n",
      "3000/3000 [==============================] - 0s 36us/step - loss: 1.7505e-11\n",
      "Epoch 50/100\n",
      "3000/3000 [==============================] - 0s 35us/step - loss: 1.0039e-13\n",
      "Epoch 51/100\n",
      "3000/3000 [==============================] - 0s 35us/step - loss: 6.7929e-13\n",
      "Epoch 52/100\n",
      "3000/3000 [==============================] - 0s 37us/step - loss: 1.0775e-12\n",
      "Epoch 53/100\n",
      "3000/3000 [==============================] - 0s 36us/step - loss: 4.3927e-10\n",
      "Epoch 54/100\n",
      "3000/3000 [==============================] - 0s 36us/step - loss: 1.6216e-06\n",
      "Epoch 55/100\n",
      "3000/3000 [==============================] - 0s 36us/step - loss: 2.1601e-07\n",
      "Epoch 56/100\n",
      "3000/3000 [==============================] - 0s 37us/step - loss: 1.6242e-08\n",
      "Epoch 57/100\n",
      "3000/3000 [==============================] - 0s 36us/step - loss: 8.1356e-11\n",
      "Epoch 58/100\n",
      "3000/3000 [==============================] - 0s 36us/step - loss: 3.1079e-08\n",
      "Epoch 59/100\n",
      "3000/3000 [==============================] - 0s 36us/step - loss: 3.6079e-06\n",
      "Epoch 60/100\n",
      "3000/3000 [==============================] - 0s 35us/step - loss: 4.5890e-08\n",
      "Epoch 61/100\n",
      "3000/3000 [==============================] - 0s 35us/step - loss: 1.2615e-10\n",
      "Epoch 62/100\n",
      "3000/3000 [==============================] - 0s 36us/step - loss: 8.5597e-13\n",
      "Epoch 63/100\n",
      "3000/3000 [==============================] - 0s 35us/step - loss: 4.6401e-13\n",
      "Epoch 64/100\n",
      "3000/3000 [==============================] - 0s 35us/step - loss: 3.2684e-12\n",
      "Epoch 65/100\n",
      "3000/3000 [==============================] - 0s 34us/step - loss: 2.3521e-12\n",
      "Epoch 66/100\n",
      "3000/3000 [==============================] - 0s 37us/step - loss: 1.8147e-10\n",
      "Epoch 67/100\n",
      "3000/3000 [==============================] - 0s 34us/step - loss: 7.4654e-07\n",
      "Epoch 68/100\n",
      "3000/3000 [==============================] - 0s 36us/step - loss: 1.8540e-06\n",
      "Epoch 69/100\n",
      "3000/3000 [==============================] - 0s 36us/step - loss: 8.5180e-09\n",
      "Epoch 70/100\n",
      "3000/3000 [==============================] - 0s 35us/step - loss: 1.7276e-11\n",
      "Epoch 71/100\n",
      "3000/3000 [==============================] - 0s 36us/step - loss: 6.0696e-13\n",
      "Epoch 72/100\n",
      "3000/3000 [==============================] - 0s 35us/step - loss: 7.0592e-12\n",
      "Epoch 73/100\n",
      "3000/3000 [==============================] - 0s 35us/step - loss: 4.2241e-11\n",
      "Epoch 74/100\n",
      "3000/3000 [==============================] - 0s 35us/step - loss: 1.7460e-06\n",
      "Epoch 75/100\n",
      "3000/3000 [==============================] - 0s 37us/step - loss: 2.0044e-08\n",
      "Epoch 76/100\n",
      "3000/3000 [==============================] - 0s 35us/step - loss: 8.5161e-10\n",
      "Epoch 77/100\n",
      "3000/3000 [==============================] - 0s 36us/step - loss: 6.0230e-12\n",
      "Epoch 78/100\n",
      "3000/3000 [==============================] - 0s 35us/step - loss: 7.4942e-10\n",
      "Epoch 79/100\n",
      "3000/3000 [==============================] - 0s 35us/step - loss: 1.6216e-06\n",
      "Epoch 80/100\n",
      "3000/3000 [==============================] - 0s 36us/step - loss: 1.1661e-07\n",
      "Epoch 81/100\n",
      "3000/3000 [==============================] - 0s 36us/step - loss: 2.5257e-10\n",
      "Epoch 82/100\n",
      "3000/3000 [==============================] - 0s 35us/step - loss: 1.0370e-09\n",
      "Epoch 83/100\n",
      "3000/3000 [==============================] - 0s 35us/step - loss: 1.0138e-07\n",
      "Epoch 84/100\n",
      "3000/3000 [==============================] - 0s 36us/step - loss: 1.2356e-06\n",
      "Epoch 85/100\n",
      "3000/3000 [==============================] - 0s 35us/step - loss: 3.4185e-08\n",
      "Epoch 86/100\n",
      "3000/3000 [==============================] - 0s 35us/step - loss: 2.9978e-08\n",
      "Epoch 87/100\n",
      "3000/3000 [==============================] - 0s 35us/step - loss: 1.5817e-06\n",
      "Epoch 88/100\n",
      "3000/3000 [==============================] - 0s 36us/step - loss: 2.1453e-08\n",
      "Epoch 89/100\n",
      "3000/3000 [==============================] - 0s 36us/step - loss: 4.5266e-10\n",
      "Epoch 90/100\n",
      "3000/3000 [==============================] - 0s 38us/step - loss: 5.0669e-11\n",
      "Epoch 91/100\n",
      "3000/3000 [==============================] - 0s 35us/step - loss: 6.8301e-09\n",
      "Epoch 92/100\n"
     ]
    },
    {
     "name": "stdout",
     "output_type": "stream",
     "text": [
      "3000/3000 [==============================] - 0s 35us/step - loss: 4.2584e-06\n",
      "Epoch 93/100\n",
      "3000/3000 [==============================] - 0s 36us/step - loss: 6.8354e-08\n",
      "Epoch 94/100\n",
      "3000/3000 [==============================] - 0s 37us/step - loss: 2.3574e-11\n",
      "Epoch 95/100\n",
      "3000/3000 [==============================] - 0s 35us/step - loss: 7.5036e-13\n",
      "Epoch 96/100\n",
      "3000/3000 [==============================] - 0s 35us/step - loss: 3.5533e-13\n",
      "Epoch 97/100\n",
      "3000/3000 [==============================] - 0s 36us/step - loss: 9.6895e-13\n",
      "Epoch 98/100\n",
      "3000/3000 [==============================] - 0s 35us/step - loss: 5.9571e-13\n",
      "Epoch 99/100\n",
      "3000/3000 [==============================] - 0s 36us/step - loss: 2.7514e-12\n",
      "Epoch 100/100\n",
      "3000/3000 [==============================] - 0s 35us/step - loss: 4.5053e-11\n"
     ]
    },
    {
     "data": {
      "text/plain": [
       "<keras.callbacks.History at 0x7f1741393470>"
      ]
     },
     "execution_count": 54,
     "metadata": {},
     "output_type": "execute_result"
    }
   ],
   "source": [
    "model.fit(x, y, epochs=100)"
   ]
  },
  {
   "cell_type": "code",
   "execution_count": 82,
   "metadata": {},
   "outputs": [
    {
     "ename": "ValueError",
     "evalue": "Error when checking model input: the list of Numpy arrays that you are passing to your model is not the size the model expected. Expected to see 1 array(s), but instead got the following list of 2 arrays: [array([[0.40846436, 0.376415  ],\n       [0.12113353, 0.66530565],\n       [0.20460729, 0.64719812],\n       ...,\n       [0.47878298, 0.8168337 ],\n       [0.78257819, 0.48675111],\n       [0.21484949, 0....",
     "output_type": "error",
     "traceback": [
      "\u001b[0;31m---------------------------------------------------------------------------\u001b[0m",
      "\u001b[0;31mValueError\u001b[0m                                Traceback (most recent call last)",
      "\u001b[0;32m<ipython-input-82-ecc99e7e8a63>\u001b[0m in \u001b[0;36m<module>\u001b[0;34m()\u001b[0m\n\u001b[0;32m----> 1\u001b[0;31m \u001b[0mmodel\u001b[0m\u001b[0;34m.\u001b[0m\u001b[0mtrain_on_batch\u001b[0m\u001b[0;34m(\u001b[0m\u001b[0;34m[\u001b[0m\u001b[0mx1\u001b[0m\u001b[0;34m,\u001b[0m\u001b[0mx2\u001b[0m\u001b[0;34m]\u001b[0m\u001b[0;34m,\u001b[0m\u001b[0;34m[\u001b[0m\u001b[0my1\u001b[0m\u001b[0;34m,\u001b[0m\u001b[0my2\u001b[0m\u001b[0;34m]\u001b[0m\u001b[0;34m)\u001b[0m\u001b[0;34m\u001b[0m\u001b[0m\n\u001b[0m",
      "\u001b[0;32m~/anaconda3/lib/python3.6/site-packages/keras/models.py\u001b[0m in \u001b[0;36mtrain_on_batch\u001b[0;34m(self, x, y, class_weight, sample_weight)\u001b[0m\n\u001b[1;32m   1104\u001b[0m         return self.model.train_on_batch(x, y,\n\u001b[1;32m   1105\u001b[0m                                          \u001b[0msample_weight\u001b[0m\u001b[0;34m=\u001b[0m\u001b[0msample_weight\u001b[0m\u001b[0;34m,\u001b[0m\u001b[0;34m\u001b[0m\u001b[0m\n\u001b[0;32m-> 1106\u001b[0;31m                                          class_weight=class_weight)\n\u001b[0m\u001b[1;32m   1107\u001b[0m \u001b[0;34m\u001b[0m\u001b[0m\n\u001b[1;32m   1108\u001b[0m     def test_on_batch(self, x, y,\n",
      "\u001b[0;32m~/anaconda3/lib/python3.6/site-packages/keras/engine/training.py\u001b[0m in \u001b[0;36mtrain_on_batch\u001b[0;34m(self, x, y, sample_weight, class_weight)\u001b[0m\n\u001b[1;32m   1875\u001b[0m             \u001b[0mx\u001b[0m\u001b[0;34m,\u001b[0m \u001b[0my\u001b[0m\u001b[0;34m,\u001b[0m\u001b[0;34m\u001b[0m\u001b[0m\n\u001b[1;32m   1876\u001b[0m             \u001b[0msample_weight\u001b[0m\u001b[0;34m=\u001b[0m\u001b[0msample_weight\u001b[0m\u001b[0;34m,\u001b[0m\u001b[0;34m\u001b[0m\u001b[0m\n\u001b[0;32m-> 1877\u001b[0;31m             class_weight=class_weight)\n\u001b[0m\u001b[1;32m   1878\u001b[0m         \u001b[0;32mif\u001b[0m \u001b[0mself\u001b[0m\u001b[0;34m.\u001b[0m\u001b[0muses_learning_phase\u001b[0m \u001b[0;32mand\u001b[0m \u001b[0;32mnot\u001b[0m \u001b[0misinstance\u001b[0m\u001b[0;34m(\u001b[0m\u001b[0mK\u001b[0m\u001b[0;34m.\u001b[0m\u001b[0mlearning_phase\u001b[0m\u001b[0;34m(\u001b[0m\u001b[0;34m)\u001b[0m\u001b[0;34m,\u001b[0m \u001b[0mint\u001b[0m\u001b[0;34m)\u001b[0m\u001b[0;34m:\u001b[0m\u001b[0;34m\u001b[0m\u001b[0m\n\u001b[1;32m   1879\u001b[0m             \u001b[0mins\u001b[0m \u001b[0;34m=\u001b[0m \u001b[0mx\u001b[0m \u001b[0;34m+\u001b[0m \u001b[0my\u001b[0m \u001b[0;34m+\u001b[0m \u001b[0msample_weights\u001b[0m \u001b[0;34m+\u001b[0m \u001b[0;34m[\u001b[0m\u001b[0;36m1.\u001b[0m\u001b[0;34m]\u001b[0m\u001b[0;34m\u001b[0m\u001b[0m\n",
      "\u001b[0;32m~/anaconda3/lib/python3.6/site-packages/keras/engine/training.py\u001b[0m in \u001b[0;36m_standardize_user_data\u001b[0;34m(self, x, y, sample_weight, class_weight, check_array_lengths, batch_size)\u001b[0m\n\u001b[1;32m   1474\u001b[0m                                     \u001b[0mself\u001b[0m\u001b[0;34m.\u001b[0m\u001b[0m_feed_input_shapes\u001b[0m\u001b[0;34m,\u001b[0m\u001b[0;34m\u001b[0m\u001b[0m\n\u001b[1;32m   1475\u001b[0m                                     \u001b[0mcheck_batch_axis\u001b[0m\u001b[0;34m=\u001b[0m\u001b[0;32mFalse\u001b[0m\u001b[0;34m,\u001b[0m\u001b[0;34m\u001b[0m\u001b[0m\n\u001b[0;32m-> 1476\u001b[0;31m                                     exception_prefix='input')\n\u001b[0m\u001b[1;32m   1477\u001b[0m         y = _standardize_input_data(y, self._feed_output_names,\n\u001b[1;32m   1478\u001b[0m                                     \u001b[0moutput_shapes\u001b[0m\u001b[0;34m,\u001b[0m\u001b[0;34m\u001b[0m\u001b[0m\n",
      "\u001b[0;32m~/anaconda3/lib/python3.6/site-packages/keras/engine/training.py\u001b[0m in \u001b[0;36m_standardize_input_data\u001b[0;34m(data, names, shapes, check_batch_axis, exception_prefix)\u001b[0m\n\u001b[1;32m     84\u001b[0m                 \u001b[0;34m'Expected to see '\u001b[0m \u001b[0;34m+\u001b[0m \u001b[0mstr\u001b[0m\u001b[0;34m(\u001b[0m\u001b[0mlen\u001b[0m\u001b[0;34m(\u001b[0m\u001b[0mnames\u001b[0m\u001b[0;34m)\u001b[0m\u001b[0;34m)\u001b[0m \u001b[0;34m+\u001b[0m \u001b[0;34m' array(s), '\u001b[0m\u001b[0;34m\u001b[0m\u001b[0m\n\u001b[1;32m     85\u001b[0m                 \u001b[0;34m'but instead got the following list of '\u001b[0m \u001b[0;34m+\u001b[0m\u001b[0;34m\u001b[0m\u001b[0m\n\u001b[0;32m---> 86\u001b[0;31m                 str(len(data)) + ' arrays: ' + str(data)[:200] + '...')\n\u001b[0m\u001b[1;32m     87\u001b[0m         \u001b[0;32melif\u001b[0m \u001b[0mlen\u001b[0m\u001b[0;34m(\u001b[0m\u001b[0mnames\u001b[0m\u001b[0;34m)\u001b[0m \u001b[0;34m>\u001b[0m \u001b[0;36m1\u001b[0m\u001b[0;34m:\u001b[0m\u001b[0;34m\u001b[0m\u001b[0m\n\u001b[1;32m     88\u001b[0m             raise ValueError(\n",
      "\u001b[0;31mValueError\u001b[0m: Error when checking model input: the list of Numpy arrays that you are passing to your model is not the size the model expected. Expected to see 1 array(s), but instead got the following list of 2 arrays: [array([[0.40846436, 0.376415  ],\n       [0.12113353, 0.66530565],\n       [0.20460729, 0.64719812],\n       ...,\n       [0.47878298, 0.8168337 ],\n       [0.78257819, 0.48675111],\n       [0.21484949, 0...."
     ]
    }
   ],
   "source": [
    "model.train_on_batch([x1,x2],[y1,y2])"
   ]
  },
  {
   "cell_type": "code",
   "execution_count": 55,
   "metadata": {},
   "outputs": [
    {
     "data": {
      "text/plain": [
       "[array([[2.000012],\n",
       "        [3.000013]], dtype=float32), array([1.0000148], dtype=float32)]"
      ]
     },
     "execution_count": 55,
     "metadata": {},
     "output_type": "execute_result"
    }
   ],
   "source": [
    "model.get_weights()"
   ]
  },
  {
   "cell_type": "code",
   "execution_count": 31,
   "metadata": {},
   "outputs": [
    {
     "data": {
      "text/plain": [
       "[{'class_name': 'Dense',\n",
       "  'config': {'activation': 'linear',\n",
       "   'activity_regularizer': None,\n",
       "   'batch_input_shape': (None, 2),\n",
       "   'bias_constraint': None,\n",
       "   'bias_initializer': {'class_name': 'Zeros', 'config': {}},\n",
       "   'bias_regularizer': None,\n",
       "   'dtype': 'float32',\n",
       "   'kernel_constraint': None,\n",
       "   'kernel_initializer': {'class_name': 'VarianceScaling',\n",
       "    'config': {'distribution': 'uniform',\n",
       "     'mode': 'fan_avg',\n",
       "     'scale': 1.0,\n",
       "     'seed': None}},\n",
       "   'kernel_regularizer': None,\n",
       "   'name': 'dense_3',\n",
       "   'trainable': True,\n",
       "   'units': 1,\n",
       "   'use_bias': True}}]"
      ]
     },
     "execution_count": 31,
     "metadata": {},
     "output_type": "execute_result"
    }
   ],
   "source": [
    "model.get_config()"
   ]
  },
  {
   "cell_type": "code",
   "execution_count": 32,
   "metadata": {},
   "outputs": [
    {
     "name": "stdout",
     "output_type": "stream",
     "text": [
      "_________________________________________________________________\n",
      "Layer (type)                 Output Shape              Param #   \n",
      "=================================================================\n",
      "dense_3 (Dense)              (None, 1)                 3         \n",
      "=================================================================\n",
      "Total params: 3\n",
      "Trainable params: 3\n",
      "Non-trainable params: 0\n",
      "_________________________________________________________________\n"
     ]
    }
   ],
   "source": [
    "model.summary()"
   ]
  },
  {
   "cell_type": "code",
   "execution_count": 70,
   "metadata": {},
   "outputs": [
    {
     "name": "stdout",
     "output_type": "stream",
     "text": [
      "[[0.51427027 0.52455614]]\n"
     ]
    },
    {
     "data": {
      "text/plain": [
       "numpy.ndarray"
      ]
     },
     "execution_count": 70,
     "metadata": {},
     "output_type": "execute_result"
    }
   ],
   "source": [
    "x=random((1,2))\n",
    "print(x)\n",
    "type(x)"
   ]
  },
  {
   "cell_type": "code",
   "execution_count": 74,
   "metadata": {},
   "outputs": [
    {
     "data": {
      "text/plain": [
       "array([[9.000053]], dtype=float32)"
      ]
     },
     "execution_count": 74,
     "metadata": {},
     "output_type": "execute_result"
    }
   ],
   "source": [
    "model.predict(np.array([[1,2]]))"
   ]
  },
  {
   "cell_type": "code",
   "execution_count": 66,
   "metadata": {},
   "outputs": [
    {
     "name": "stdout",
     "output_type": "stream",
     "text": [
      "[3.7073007]\n"
     ]
    }
   ],
   "source": [
    "print(np.dot(x, [2,3])+1)"
   ]
  },
  {
   "cell_type": "code",
   "execution_count": null,
   "metadata": {},
   "outputs": [],
   "source": []
  }
 ],
 "metadata": {
  "kernelspec": {
   "display_name": "Python 3",
   "language": "python",
   "name": "python3"
  },
  "language_info": {
   "codemirror_mode": {
    "name": "ipython",
    "version": 3
   },
   "file_extension": ".py",
   "mimetype": "text/x-python",
   "name": "python",
   "nbconvert_exporter": "python",
   "pygments_lexer": "ipython3",
   "version": "3.6.4"
  }
 },
 "nbformat": 4,
 "nbformat_minor": 2
}
